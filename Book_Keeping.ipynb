{
 "cells": [
  {
   "cell_type": "markdown",
   "id": "6fbd69d6",
   "metadata": {},
   "source": [
    "### **1 of 8: OBTAIN USER'S INPUT**\n",
    "\n",
    "&nbsp;&nbsp;&nbsp;&nbsp;&nbsp;Examples of user inputs: \n",
    "\n",
    "1. Stockholders invest 15,000 dollars in the company.\n",
    "\n",
    "2. A receipt of 800 dollars of cash on account.\n",
    "\n",
    "3. Paid 600 in rent to the property owner."
   ]
  },
  {
   "cell_type": "code",
   "execution_count": 1,
   "id": "dd7b263b",
   "metadata": {},
   "outputs": [
    {
     "name": "stdout",
     "output_type": "stream",
     "text": [
      "\n",
      "Your input statement is: Paid electricity bill of $300 by cash.\n",
      "\n",
      "Financial Transaction involves 300.0 dollars\n"
     ]
    }
   ],
   "source": [
    "import re, sqlite3, pandas\n",
    "from datetime import date\n",
    "\n",
    "complex_combinations = [\n",
    "    [\"investment\", \"investments\", \"contributes\", \"contributed\", \"invests\", \"invest\",\n",
    "     \"stockholders\", \"stockholder\", \"shareholders\", \"shareholder\", \n",
    "     \"owner\", \"issued\", \"stock\", \"stocks\", \"common\", \"cash\", \"money\", \"capital\", ],           \n",
    "    [\"cash\", \"purchase\", \"purchased\", \"equipment\", \"equipments\", \"money\", \"capital\"],                     \n",
    "    [\"purchase\", \"purchased\", \"on\", \"credit\", \"equipment\", \"equipments\", \"account\", \n",
    "     \"accounts\",  \"payable\", \"AP\" , \"outstanding\"],                     \n",
    "    [\"consulting\", \"services\", \"service\", \"perform\", \"performed\", \"cash\", \"revenue\", \n",
    "     \"income\", \"money\", \"capital\", \"sales\", \"trades\", ],                     \n",
    "    [\"purchase\", \"purchased\", \"advertising\", \"advertising\",\"advertising\",\"advertised\", \n",
    "     \"advertise\", \"account\", \"accounts\",  \"payable\", \n",
    "     \"lost\", \"expenditure\", \"expense\", \"expenses\",  \"credit\", \"on\", \"AP\", \"outstanding\"],                     \n",
    "    [\"services\", \"service\", \"performed\", \"perform\", \"on\", \"credit\", \"revenue\", \"income\", \n",
    "     \"account\", \"accounts\",  \"receivable\", \"obtain\", \"receive\", \n",
    "     \"received\", \"AR\" ],                    \n",
    "    [\"salary\", \"salaries\", \"worker\", \"workers\", \"utility\", \"property\", \"electric\", \n",
    "     \"electricity\", \"web\", \"hosting\", \"electrical\", \"bill\",  \n",
    "     \"utilities\", \"rent\", \"lost\", \"cash\", \n",
    "     \"expenditure\", \"expense\", \"expenses\", \"payment\", \"payments\", \"paying\", ],                    \n",
    "    [\"payment\", \"payments\",  \"account\", \"accounts\",  \"payable\", \"AP\", \"supplier\", \n",
    "     \"vendor\" , \"outstanding\"],                     \n",
    "    [\"receipt\", \"cash\", \"account\", \"on\", \"money\", \"capital\", \"accounts\",  \"receivable\", \n",
    "     \"obtain\", \"receive\", \"received\", \"from\", \"AR\"],                    \n",
    "    [\"dividends\", \"dividend\", \"stockholders\", \"stockholder\", \"shareholder\", \n",
    "     \"shareholders\",\"declared\", \"owner\"]\n",
    "    ]\n",
    "\n",
    "number_of_placeholders = 0\n",
    "for combination in complex_combinations:\n",
    "    number_of_placeholders = number_of_placeholders + 1\n",
    "\n",
    "number = 0.0\n",
    "sentence = input(\"INPUT A SINGLE BUSINESS TRANSACTION & ITS MONETARY AMOUNT\")\n",
    "number = re.findall(r\"\\d+\\.?\\d*\", sentence)  \n",
    "\n",
    "statement1 = \"Please enter the needed financial amount\"\n",
    "money_amount = 0\n",
    "\n",
    "try:\n",
    "    money_amount = float(\"\".join(i for i in number))\n",
    "    statement1 = \"Financial Transaction involves \" + str(money_amount) + \" dollars\"\n",
    "except ValueError:\n",
    "    statement1 = \"Please enter the needed financial transaction amount.\"\n",
    "    \n",
    "\n",
    "print()\n",
    "print(\"Your input statement is:\", (sentence if (sentence != \"\")  else \"NONE\"))\n",
    "print()\n",
    "print(statement1)"
   ]
  },
  {
   "cell_type": "markdown",
   "id": "989feb82",
   "metadata": {},
   "source": [
    "### **2 of 8: INTEGRITY OF INPUT**"
   ]
  },
  {
   "cell_type": "code",
   "execution_count": 2,
   "id": "5a9da827",
   "metadata": {},
   "outputs": [
    {
     "name": "stdout",
     "output_type": "stream",
     "text": [
      "\n",
      "Your Business Transaction has been processed\n"
     ]
    }
   ],
   "source": [
    "characters = re.sub(r\"[^a-zA-Z\\s]\", \"\", sentence)\n",
    "\n",
    "words_from_characters = []\n",
    "word_formed = \"\"\n",
    "for each_character in characters:\n",
    "    if each_character.isupper():\n",
    "        each_character = each_character.lower()\n",
    "    if each_character == \" \":\n",
    "        words_from_characters.append(word_formed)\n",
    "        word_formed = \"\"\n",
    "    else:\n",
    "        word_formed += each_character\n",
    "\n",
    "if word_formed != \"\" or word_formed != \" \":    \n",
    "    words_from_characters.append(word_formed)\n",
    "\n",
    "final_words = []\n",
    "for word in words_from_characters:\n",
    "    if word != \"\":\n",
    "        final_words.append(word)\n",
    "\n",
    "finalList = []\n",
    "finalList.extend([0] * number_of_placeholders)\n",
    "finalNumber = 0\n",
    "final_index = -1\n",
    "\n",
    "for single_combination in complex_combinations:\n",
    "    finalNumber = 0\n",
    "    final_index = final_index + 1\n",
    "    for each_word in single_combination:\n",
    "        for each_final_word in final_words:\n",
    "            if each_final_word == each_word:\n",
    "                finalNumber = finalNumber + 1\n",
    "    finalList[final_index] = finalNumber\n",
    "maximum_number = max(finalList)\n",
    "\n",
    "statement2 = \"No proper business transaction could be made.\"\n",
    "if maximum_number == 0:\n",
    "    statement2 = \"No Proper business transaction could be made.\"\n",
    "else:\n",
    "    statement2 = \"Your Business Transaction has been processed\"\n",
    "\n",
    "\n",
    "print()\n",
    "print(statement2)\n"
   ]
  },
  {
   "cell_type": "markdown",
   "id": "88a26c3e",
   "metadata": {},
   "source": [
    "### **3 of 8: AFFECTED ACCOUNTS**"
   ]
  },
  {
   "cell_type": "code",
   "execution_count": 3,
   "id": "af0249b4",
   "metadata": {},
   "outputs": [
    {
     "name": "stdout",
     "output_type": "stream",
     "text": [
      "\n",
      "There a possible answer for your input. Scroll below to read\n"
     ]
    }
   ],
   "source": [
    "final_cases = [\n",
    "                [['cash', money_amount],['common_stock', money_amount]],\n",
    "                [['cash', -money_amount],['equipment', money_amount]],\n",
    "                [['equipment', money_amount],['account_payable', money_amount]],\n",
    "                [['cash', money_amount],['revenue', money_amount]],\n",
    "                [['account_payable', money_amount],['expense', -money_amount]],\n",
    "                [['account_receivable', money_amount],['revenue', money_amount]],\n",
    "                [['cash', -money_amount],['expense', -money_amount]],\n",
    "                [['cash', -money_amount],['account_payable', -money_amount]],\n",
    "                [['cash', money_amount],['account_receivable', -money_amount]],\n",
    "                [['cash', -money_amount],['dividend', -money_amount]]\n",
    "            ]\n",
    "\n",
    "multiple_cases = 0\n",
    "for count_of_numbers in finalList:\n",
    "    if count_of_numbers == maximum_number:\n",
    "        multiple_cases = multiple_cases + 1\n",
    "\n",
    "if multiple_cases > 1 and money_amount > 0:\n",
    "    statement3 = \"Multiple answers are possible. Be more descriptive. Try again.\"\n",
    "elif multiple_cases == 1 and money_amount > 0:\n",
    "    statement3 = \"There a possible answer for your input. Scroll below to read\"\n",
    "else:\n",
    "    statement3 = \"No answer is possible for your statement.\"\n",
    "\n",
    "print()\n",
    "print(statement3)"
   ]
  },
  {
   "cell_type": "markdown",
   "id": "4d7a4766",
   "metadata": {},
   "source": [
    "### **4 of 8: JOURNAL ENTRY**"
   ]
  },
  {
   "cell_type": "code",
   "execution_count": 4,
   "id": "dc38fca7",
   "metadata": {},
   "outputs": [
    {
     "name": "stdout",
     "output_type": "stream",
     "text": [
      "\n",
      "===================\n",
      "DATE:  2025-07-20 ↓\n",
      "==================================================================\n",
      "EXPENSE Account              $300.0\n",
      "      CASH Account                   $300.0\n",
      "-----------------------------------------------------------------------------------------\n",
      "Paid electricity bill of $300 by cash.\n",
      "=========================================================================================\n"
     ]
    }
   ],
   "source": [
    "statement_list = []\n",
    "final_case_index = -1\n",
    "if (statement3 != \"No answer is possible for your statement.\" \n",
    "    and statement3 != \"Multiple answers are possible. Be more descriptive. Try again.\"):\n",
    "    for each_final_case in finalList:\n",
    "        final_case_index = final_case_index + 1\n",
    "        if each_final_case == maximum_number and money_amount != 0:\n",
    "            statement_list.append(str(final_cases[final_case_index][0][0]))\n",
    "            statement_list.append(float(final_cases[final_case_index][0][1]))\n",
    "            statement_list.append(str(final_cases[final_case_index][1][0]))\n",
    "            statement_list.append(float(final_cases[final_case_index][1][1]))\n",
    "else: \n",
    "    statement_list.append(\"NONE\")\n",
    "    statement_list.append(0)\n",
    "    statement_list.append(\"NONE\")\n",
    "    statement_list.append(0)\n",
    "   \n",
    "\n",
    "print()\n",
    "print(\"===================\")\n",
    "print(\"DATE: \", str(date.today()), \"↓\")\n",
    "print(\"==================================================================\")\n",
    "print(statement_list[2].upper(), \"Account\", \"            \", \"$\" + str(abs(statement_list[3])))\n",
    "print(\"     \", statement_list[0].upper(), \"Account\", \"                 \", \"$\" + str(abs(statement_list[1])))\n",
    "print(\"-----------------------------------------------------------------------------------------\")\n",
    "print((sentence if (sentence != \"\")  else \"DESCRIPTION: NON-GIVEN\"))\n",
    "print(\"=========================================================================================\")\n"
   ]
  },
  {
   "cell_type": "markdown",
   "id": "a0db1c67",
   "metadata": {},
   "source": [
    "### **5 of 8: FORM DATABASE**"
   ]
  },
  {
   "cell_type": "code",
   "execution_count": null,
   "id": "0305b688",
   "metadata": {},
   "outputs": [
    {
     "name": "stdout",
     "output_type": "stream",
     "text": [
      "\n"
     ]
    }
   ],
   "source": [
    "# Refered to: https://docs.python.org/3/library/sqlite3.html\n",
    "cx = sqlite3.connect(\"business_transactions.db\")\n",
    "\n",
    "cu = cx.cursor()\n",
    "cu.execute(\"\"\"\n",
    "CREATE TABLE IF NOT EXISTS business_transactions (\n",
    "                id INTEGER PRIMARY KEY AUTOINCREMENT,\n",
    "                user_input TEXT,\n",
    "                cash REAL,\n",
    "                account_receivable REAL,\n",
    "                equipment REAL,\n",
    "                account_payable REAL,\n",
    "                common_stock REAL,\n",
    "                revenue REAL,\n",
    "                expense REAL,\n",
    "                dividend REAL\n",
    "                );\n",
    "                \"\"\")\n",
    "\n",
    "cx.commit()  \n",
    "\n",
    "\n",
    "# ###########################\n",
    "# # SAMPLE RECORD INSERTION\n",
    "# initial_transactions = [\n",
    "# (\"Investment of cash by stockholders\", 16000, 0, 0, 0, 16000, 0, 0, 0),\n",
    "# (\"Purchased equipment by cash\", -5000, 0, 5000, 0, 0, 0, 0, 0),\n",
    "# (\"Services performed by cash\", 1200, 0, 0, 0, 0, 1200, 0, 0),\n",
    "# (\"Payment of salary to workers\", -1700, 0, 0, 0, 0, 0, -1700, 0)    \n",
    "# ]\n",
    "# cu.executemany(\"\"\"\n",
    "#                 INSERT \n",
    "#                 INTO business_transactions (user_input, cash, account_receivable, \n",
    "#                                             equipment, account_payable, common_stock, \n",
    "#                                             revenue, expense, dividend)\n",
    "#                 VALUES (?, ?, ?, ?, ?, ?, ?, ?, ?)\n",
    "#                 \"\"\", initial_transactions) \n",
    "# cx.commit()\n",
    "# ###########################\n",
    "\n",
    "\n",
    "#############################\n",
    "# # SAMPLE RECORD DELETION\n",
    "# cu.execute(\"\"\"\n",
    "#                DELETE\n",
    "#                FROM  business_transactions; \n",
    "#                 \"\"\") \n",
    "# cx.commit()\n",
    "#############################\n",
    "\n",
    "print()\n"
   ]
  },
  {
   "cell_type": "markdown",
   "id": "8eb5f8c9",
   "metadata": {},
   "source": [
    "### **6 of 8: INSERT SQL QUERY INTO DATABASE**"
   ]
  },
  {
   "cell_type": "code",
   "execution_count": 6,
   "id": "2a9bf2bb",
   "metadata": {},
   "outputs": [
    {
     "name": "stdout",
     "output_type": "stream",
     "text": [
      "\n",
      "The transaction has been inserted into the database. Scroll down to view\n"
     ]
    }
   ],
   "source": [
    "query_statement = \"\"\n",
    "\n",
    "if (statement_list[0] != \"NONE\" \n",
    "    and statement_list[1] != 0 \n",
    "    and statement_list[2] != \"NONE\" \n",
    "    and statement_list[3] != 0): \n",
    "    match (statement_list[0], statement_list[2]):\n",
    "        case ('cash','common_stock'):\n",
    "            query_statement = [sentence, statement_list[1], 0, 0, 0, statement_list[3], 0, 0, 0]\n",
    "        case ('cash','equipment'):\n",
    "            query_statement = [sentence, statement_list[1], 0, statement_list[3], 0, 0, 0, 0, 0]\n",
    "        case ('equipment', 'account_payable'):\n",
    "            query_statement = [sentence, 0, 0, statement_list[1], statement_list[3], 0, 0, 0, 0]\n",
    "        case ('cash','revenue'):\n",
    "            query_statement = [sentence, statement_list[1], 0, 0, 0, 0, statement_list[3], 0, 0]\n",
    "        case ('account_payable','expense'):\n",
    "            query_statement = [sentence, 0, 0, 0, statement_list[1], 0, 0, statement_list[3], 0]\n",
    "        case ('account_receivable','revenue'):\n",
    "            query_statement = [sentence, 0, statement_list[1], 0, 0, 0, statement_list[3], 0, 0]\n",
    "        case ('cash', 'expense'):\n",
    "            query_statement = [sentence, statement_list[1], 0, 0, 0, 0, 0, statement_list[3], 0]\n",
    "        case ('cash','account_payable'):\n",
    "            query_statement = [sentence, statement_list[1], 0, 0, statement_list[3], 0, 0, 0, 0]\n",
    "        case ('cash', 'account_receivable'):\n",
    "            query_statement = [sentence, statement_list[1], statement_list[3], 0, 0, 0, 0, 0, 0]\n",
    "        case ('cash', 'dividend'): \n",
    "            query_statement = [sentence, statement_list[1], 0, 0, 0, 0, 0, 0, statement_list[3]]\n",
    "    cu.execute(\"\"\"\n",
    "                INSERT\n",
    "                INTO business_transactions (user_input, cash, account_receivable, equipment, \n",
    "                                            account_payable, common_stock, revenue, expense, \n",
    "                                            dividend)\n",
    "                VALUES (?, ?, ?, ?, ?, ?, ?, ?, ?)\n",
    "                \"\"\", query_statement)\n",
    "    cx.commit()\n",
    "    print()\n",
    "    print(\"The transaction has been inserted into the database. Scroll down to view\")\n",
    "else:\n",
    "    print()\n",
    "    print(\"The transaction has not been inserted. The pragram has finished its execution\")\n",
    "\n"
   ]
  },
  {
   "cell_type": "markdown",
   "id": "c3f23ccd",
   "metadata": {},
   "source": [
    "### **7 of 8: CONNECT SQL & PYTHON**"
   ]
  },
  {
   "cell_type": "code",
   "execution_count": 7,
   "id": "5566e6df",
   "metadata": {},
   "outputs": [
    {
     "name": "stdout",
     "output_type": "stream",
     "text": [
      "\n"
     ]
    }
   ],
   "source": [
    "cu.execute(\"\"\"SELECT \n",
    "               SUM(revenue),\n",
    "               SUM(expense),\n",
    "               SUM(expense + revenue), \n",
    "               SUM(dividend),\n",
    "               SUM(0 + expense + revenue + dividend),\n",
    "               SUM(cash), \n",
    "               SUM(account_receivable),\n",
    "               SUM(equipment), \n",
    "               SUM(cash + account_receivable + equipment),\n",
    "               SUM(account_payable),\n",
    "               SUM(common_stock),\n",
    "               SUM(common_stock + expense + revenue + dividend),\n",
    "               SUM(account_payable + common_stock + expense + revenue + dividend)\n",
    "               FROM business_transactions;            \n",
    "               \"\"\")\n",
    "\n",
    "cx.commit()\n",
    "\n",
    "bt = cu.fetchall()[0]\n",
    "\n",
    "bt_revenue = bt[0]\n",
    "bt_expense = bt[1]\n",
    "bt_net_income = bt[2]\n",
    "bt_dividend = bt[3]\n",
    "bt_retained_earnings = bt[4]\n",
    "bt_cash = bt[5]\n",
    "bt_accounts_receivable = bt[6]\n",
    "bt_equipment = bt[7]\n",
    "bt_assets = bt[8]\n",
    "bt_account_payable = bt[9]\n",
    "bt_common_stock = bt[10]\n",
    "bt_SE = bt[11]\n",
    "bt_liabilities_and_stockholder = bt[12]\n",
    "\n",
    "company_name = \"AHIN Constructions\"\n",
    "type_of_statement = [\"Income Statement\", \"Retained Earnings\", \"Balance Sheet\"]\n",
    "date_phrase = \"For the Date Ended \" + str(date.today())\n",
    "\n",
    "print()"
   ]
  },
  {
   "cell_type": "markdown",
   "id": "71899b33",
   "metadata": {},
   "source": [
    "### **8 of 8: FINANCIAL STATEMENTS & ANALYSIS**\n",
    "\n",
    "#### **INCOME STATEMENT**"
   ]
  },
  {
   "cell_type": "code",
   "execution_count": 8,
   "id": "790b9946",
   "metadata": {},
   "outputs": [
    {
     "name": "stdout",
     "output_type": "stream",
     "text": [
      "=========================================================================================\n",
      "                                    AHIN Constructions\n",
      "                                    Income Statement\n",
      "                              For the Date Ended 2025-07-20\n",
      "=========================================================================================\n",
      "\n",
      "                               Total Revenue:   1200.000\n",
      "                               Total Expense:  -2000.000\n",
      "                              ---------------\n",
      "                                  Net Income:   -800.000\n",
      "\n",
      "=========================================================================================\n",
      "\n"
     ]
    }
   ],
   "source": [
    "print(\"=========================================================================================\")\n",
    "print(\"                                   \",company_name)\n",
    "print(\"                                   \", type_of_statement[0])\n",
    "print(\"                             \", date_phrase)\n",
    "print(\"=========================================================================================\")\n",
    "print(\"\")\n",
    "print(\"                               Total Revenue:\", f\"{bt_revenue:>10.3f}\")   \n",
    "print(\"                               Total Expense:\", f\"{bt_expense:>10.3f}\")\n",
    "print(\"                              ---------------\")\n",
    "print(\"                                  Net Income:\", f\"{bt_net_income:>10.3f}\")\n",
    "print()\n",
    "print(\"=========================================================================================\")\n",
    "print()\n"
   ]
  },
  {
   "cell_type": "markdown",
   "id": "35193f1f",
   "metadata": {},
   "source": [
    "#### **RETAINED EARNINGS STATEMENT**"
   ]
  },
  {
   "cell_type": "code",
   "execution_count": 9,
   "id": "46f86a31",
   "metadata": {},
   "outputs": [
    {
     "name": "stdout",
     "output_type": "stream",
     "text": [
      "=========================================================================================\n",
      "                                    AHIN Constructions                              \n",
      "                                    Retained Earnings                           \n",
      "                              For the Date Ended 2025-07-20                                    \n",
      "=========================================================================================\n",
      "\n",
      "               Retained Earnings, Previous Month:       0.00\n",
      "                                 Add: Net Income:    -800.00\n",
      "                                 ----------------\n",
      "                                  Less: Dividend:       0.00\n",
      "                                  ---------------\n",
      "                   Retained Earnings, upto today:    -800.00\n",
      "\n",
      "=========================================================================================\n",
      "\n"
     ]
    }
   ],
   "source": [
    "print(\"=========================================================================================\")\n",
    "print(\"                                   \",company_name,\"                             \")\n",
    "print(\"                                   \", type_of_statement[1], \"                          \")\n",
    "print(\"                             \", date_phrase,\"                                   \")\n",
    "print(\"=========================================================================================\")\n",
    "print(\"\")\n",
    "print(\"               Retained Earnings, Previous Month:\", f\"{0.0:>10.2f}\")\n",
    "print(\"                                 Add: Net Income:\", f\"{bt_net_income:>10.2f}\")\n",
    "print(\"                                 ----------------\")\n",
    "print(\"                                  Less: Dividend:\", f\"{bt_dividend:>10.2f}\")\n",
    "print(\"                                  ---------------\")\n",
    "print(\"                   Retained Earnings, upto today:\", f\"{bt_retained_earnings:>10.2f}\")\n",
    "print()\n",
    "print(\"=========================================================================================\")\n",
    "print()"
   ]
  },
  {
   "cell_type": "markdown",
   "id": "3ec098d1",
   "metadata": {},
   "source": [
    "#### **BALANCE SHEET STATEMENT**"
   ]
  },
  {
   "cell_type": "code",
   "execution_count": 10,
   "id": "9d925f80",
   "metadata": {},
   "outputs": [
    {
     "name": "stdout",
     "output_type": "stream",
     "text": [
      "=========================================================================================\n",
      "                                    AHIN Constructions                              \n",
      "                                    Balance Sheet                           \n",
      "                              For the Date Ended 2025-07-20                                    \n",
      "=========================================================================================\n",
      "\n",
      "                                         ASSESTS\n",
      "                                           Cash:   10200.00\n",
      "                            Accounts_Receivable:       0.00\n",
      "                                      Equipment:    5000.00\n",
      "                                   TOTAL ASSETS:   15200.00\n",
      "                                ----------------\n",
      "                                     LIABILITIES\n",
      "                                Account Payable:       0.00\n",
      "                                ----------------\n",
      "                            STOCKHOLDER'S EQUITY\n",
      "                                   Common Stock:   16000.00\n",
      "                              Retained Earnings:    -800.00\n",
      "                                ----------------\n",
      "             LIABILITIES & STOCKHOLDER'S EQUITY:   15200.00\n",
      "\n",
      "=========================================================================================\n",
      "\n"
     ]
    }
   ],
   "source": [
    "print(\"=========================================================================================\")\n",
    "print(\"                                   \",company_name,\"                             \")\n",
    "print(\"                                   \", type_of_statement[2], \"                          \")\n",
    "print(\"                             \", date_phrase,\"                                   \")\n",
    "print(\"=========================================================================================\")\n",
    "print(\"\")\n",
    "print(\"                                         ASSESTS\")           \n",
    "print(\"                                           Cash:\", f\"{bt_cash:>10.2f}\")\n",
    "print(\"                            Accounts_Receivable:\", f\"{bt_accounts_receivable:>10.2f}\")\n",
    "print(\"                                      Equipment:\", f\"{bt_equipment:>10.2f}\")\n",
    "print(\"                                   TOTAL ASSETS:\", f\"{bt_assets:>10.2f}\")\n",
    "print(\"                                ----------------\")\n",
    "print(\"                                     LIABILITIES\")\n",
    "print(\"                                Account Payable:\", f\"{bt_account_payable:>10.2f}\")\n",
    "print(\"                                ----------------\")\n",
    "print(\"                            STOCKHOLDER'S EQUITY\")\n",
    "print(\"                                   Common Stock:\", f\"{bt_common_stock:>10.2f}\")\n",
    "print(\"                              Retained Earnings:\", f\"{bt_retained_earnings:>10.2f}\")\n",
    "print(\"                                ----------------\")\n",
    "print(\"             LIABILITIES & STOCKHOLDER'S EQUITY:\", f\"{bt_liabilities_and_stockholder:>10.2f}\")\n",
    "print()\n",
    "print(\"=========================================================================================\")\n",
    "print()"
   ]
  },
  {
   "cell_type": "markdown",
   "id": "db10802a",
   "metadata": {},
   "source": [
    "#### **ACCOUNTING EQUATION** "
   ]
  },
  {
   "cell_type": "code",
   "execution_count": 11,
   "id": "88dad391",
   "metadata": {},
   "outputs": [
    {
     "name": "stdout",
     "output_type": "stream",
     "text": [
      "\n",
      "Accounting equation IS equal! Asset is 15200.0 dollars. Liabilities and SE is also 15200.0 dollars.\n"
     ]
    }
   ],
   "source": [
    "print()\n",
    "if (bt_assets == bt_liabilities_and_stockholder \n",
    "    and bt_assets != None and bt_liabilities_and_stockholder != None):\n",
    "    print(\"Accounting equation IS equal! Asset is\" , \n",
    "          bt_assets, \"dollars. Liabilities and SE is also\", \n",
    "          bt_liabilities_and_stockholder, \"dollars.\")\n",
    "elif (bt_assets != bt_liabilities_and_stockholder \n",
    "      and bt_assets != None \n",
    "      and bt_liabilities_and_stockholder != None):\n",
    "    print(\"Accounting equation IS NOT equal! Asset is\" , \n",
    "          bt_assets, \"dollars, but Liabilities and SE is\", \n",
    "          bt_liabilities_and_stockholder, \"dollars.\")\n",
    "else:\n",
    "    print(\"Please recheck the business transaction statement.\")\n",
    "\n"
   ]
  },
  {
   "cell_type": "markdown",
   "id": "24d42c38",
   "metadata": {},
   "source": [
    "#### **DISPLAY TABLE** "
   ]
  },
  {
   "cell_type": "code",
   "execution_count": 12,
   "id": "edd54ead",
   "metadata": {},
   "outputs": [
    {
     "data": {
      "text/html": [
       "<div>\n",
       "<style scoped>\n",
       "    .dataframe tbody tr th:only-of-type {\n",
       "        vertical-align: middle;\n",
       "    }\n",
       "\n",
       "    .dataframe tbody tr th {\n",
       "        vertical-align: top;\n",
       "    }\n",
       "\n",
       "    .dataframe thead th {\n",
       "        text-align: right;\n",
       "    }\n",
       "</style>\n",
       "<table border=\"1\" class=\"dataframe\">\n",
       "  <thead>\n",
       "    <tr style=\"text-align: right;\">\n",
       "      <th></th>\n",
       "      <th>id</th>\n",
       "      <th>user_input</th>\n",
       "      <th>cash</th>\n",
       "      <th>account_receivable</th>\n",
       "      <th>equipment</th>\n",
       "      <th>account_payable</th>\n",
       "      <th>common_stock</th>\n",
       "      <th>revenue</th>\n",
       "      <th>expense</th>\n",
       "      <th>dividend</th>\n",
       "    </tr>\n",
       "  </thead>\n",
       "  <tbody>\n",
       "    <tr>\n",
       "      <th>0</th>\n",
       "      <td>1</td>\n",
       "      <td>Investment of cash by stockholders</td>\n",
       "      <td>16000.0</td>\n",
       "      <td>0.0</td>\n",
       "      <td>0.0</td>\n",
       "      <td>0.0</td>\n",
       "      <td>16000.0</td>\n",
       "      <td>0.0</td>\n",
       "      <td>0.0</td>\n",
       "      <td>0.0</td>\n",
       "    </tr>\n",
       "    <tr>\n",
       "      <th>1</th>\n",
       "      <td>2</td>\n",
       "      <td>Purchased equipment by cash</td>\n",
       "      <td>-5000.0</td>\n",
       "      <td>0.0</td>\n",
       "      <td>5000.0</td>\n",
       "      <td>0.0</td>\n",
       "      <td>0.0</td>\n",
       "      <td>0.0</td>\n",
       "      <td>0.0</td>\n",
       "      <td>0.0</td>\n",
       "    </tr>\n",
       "    <tr>\n",
       "      <th>2</th>\n",
       "      <td>3</td>\n",
       "      <td>Services performed by cash</td>\n",
       "      <td>1200.0</td>\n",
       "      <td>0.0</td>\n",
       "      <td>0.0</td>\n",
       "      <td>0.0</td>\n",
       "      <td>0.0</td>\n",
       "      <td>1200.0</td>\n",
       "      <td>0.0</td>\n",
       "      <td>0.0</td>\n",
       "    </tr>\n",
       "    <tr>\n",
       "      <th>3</th>\n",
       "      <td>4</td>\n",
       "      <td>Payment of salary to workers</td>\n",
       "      <td>-1700.0</td>\n",
       "      <td>0.0</td>\n",
       "      <td>0.0</td>\n",
       "      <td>0.0</td>\n",
       "      <td>0.0</td>\n",
       "      <td>0.0</td>\n",
       "      <td>-1700.0</td>\n",
       "      <td>0.0</td>\n",
       "    </tr>\n",
       "    <tr>\n",
       "      <th>4</th>\n",
       "      <td>5</td>\n",
       "      <td>Paid electricity bill of $300 by cash.</td>\n",
       "      <td>-300.0</td>\n",
       "      <td>0.0</td>\n",
       "      <td>0.0</td>\n",
       "      <td>0.0</td>\n",
       "      <td>0.0</td>\n",
       "      <td>0.0</td>\n",
       "      <td>-300.0</td>\n",
       "      <td>0.0</td>\n",
       "    </tr>\n",
       "  </tbody>\n",
       "</table>\n",
       "</div>"
      ],
      "text/plain": [
       "   id                              user_input     cash  account_receivable  \\\n",
       "0   1      Investment of cash by stockholders  16000.0                 0.0   \n",
       "1   2             Purchased equipment by cash  -5000.0                 0.0   \n",
       "2   3              Services performed by cash   1200.0                 0.0   \n",
       "3   4            Payment of salary to workers  -1700.0                 0.0   \n",
       "4   5  Paid electricity bill of $300 by cash.   -300.0                 0.0   \n",
       "\n",
       "   equipment  account_payable  common_stock  revenue  expense  dividend  \n",
       "0        0.0              0.0       16000.0      0.0      0.0       0.0  \n",
       "1     5000.0              0.0           0.0      0.0      0.0       0.0  \n",
       "2        0.0              0.0           0.0   1200.0      0.0       0.0  \n",
       "3        0.0              0.0           0.0      0.0  -1700.0       0.0  \n",
       "4        0.0              0.0           0.0      0.0   -300.0       0.0  "
      ]
     },
     "metadata": {},
     "output_type": "display_data"
    }
   ],
   "source": [
    "# refered to official pandas documentation page: \n",
    "# https://pandas.pydata.org/docs/dev/reference/api/pandas.set_option.html#pandas.set_option\n",
    "pandas.set_option('display.max_rows', None)\n",
    "pandas.set_option('display.max_columns', None)\n",
    "\n",
    "# refered to official pandas documentation page: \n",
    "# https://pandas.pydata.org/docs/dev/reference/api/pandas.read_sql.html#pandas.read_sql\n",
    "df = pandas.read_sql(\"SELECT * FROM business_transactions\", cx)\n",
    "display(df)\n",
    "\n",
    "cx.close()"
   ]
  }
 ],
 "metadata": {
  "kernelspec": {
   "display_name": "Python 3",
   "language": "python",
   "name": "python3"
  },
  "language_info": {
   "codemirror_mode": {
    "name": "ipython",
    "version": 3
   },
   "file_extension": ".py",
   "mimetype": "text/x-python",
   "name": "python",
   "nbconvert_exporter": "python",
   "pygments_lexer": "ipython3",
   "version": "3.11.3"
  }
 },
 "nbformat": 4,
 "nbformat_minor": 5
}
